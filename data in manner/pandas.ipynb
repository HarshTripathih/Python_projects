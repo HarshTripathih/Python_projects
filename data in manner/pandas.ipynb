{
 "cells": [
  {
   "cell_type": "code",
   "execution_count": 1,
   "metadata": {},
   "outputs": [],
   "source": [
    "import pandas as pd"
   ]
  },
  {
   "cell_type": "code",
   "execution_count": 2,
   "metadata": {},
   "outputs": [],
   "source": [
    "dict={\"India\":[\"uttar Pradesh\",\"Punjab\",\"Mumbai\",\"Kanpur\",\"Banglore\",\"Bhopal\"],\"employes name\":[\"Akash\",\"harsh\",\"priyanka\",\"vaishali\",\"Ankit\",\"vishal\"],\"Gender\":[\"M\",\"M\",\"F\",\"F\",\"M\",\"M\"],\"Salary\":[\"9 lakh\",\"12 lakh\",\"48 lakh\",\"1 crore\",\"27 lakh\",\"10 lakh\"]}"
   ]
  },
  {
   "cell_type": "code",
   "execution_count": 3,
   "metadata": {},
   "outputs": [],
   "source": [
    "data = pd.DataFrame(dict)"
   ]
  },
  {
   "cell_type": "code",
   "execution_count": 4,
   "metadata": {},
   "outputs": [
    {
     "name": "stdout",
     "output_type": "stream",
     "text": [
      "           India employes name Gender   Salary\n",
      "0  uttar Pradesh         Akash      M   9 lakh\n",
      "1         Punjab         harsh      M  12 lakh\n",
      "2         Mumbai      priyanka      F  48 lakh\n",
      "3         Kanpur      vaishali      F  1 crore\n",
      "4       Banglore         Ankit      M  27 lakh\n",
      "5         Bhopal        vishal      M  10 lakh\n"
     ]
    }
   ],
   "source": [
    "print(data)"
   ]
  },
  {
   "cell_type": "code",
   "execution_count": null,
   "metadata": {},
   "outputs": [],
   "source": []
  }
 ],
 "metadata": {
  "kernelspec": {
   "display_name": "Python 3",
   "language": "python",
   "name": "python3"
  },
  "language_info": {
   "codemirror_mode": {
    "name": "ipython",
    "version": 3
   },
   "file_extension": ".py",
   "mimetype": "text/x-python",
   "name": "python",
   "nbconvert_exporter": "python",
   "pygments_lexer": "ipython3",
   "version": "3.8.5"
  }
 },
 "nbformat": 4,
 "nbformat_minor": 4
}
